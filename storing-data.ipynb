{
 "cells": [
  {
   "cell_type": "markdown",
   "metadata": {},
   "source": [
    "# Storing and Retrieving Data"
   ]
  },
  {
   "cell_type": "code",
   "execution_count": 1,
   "metadata": {
    "collapsed": true
   },
   "outputs": [],
   "source": [
    "nobel_winners = [\n",
    "    {'category': 'Physics',\n",
    "    'name': 'Albert Einstein',\n",
    "    'nationality': 'Swiss',\n",
    "    'sex': 'male',\n",
    "    'year': 1921},\n",
    "    {'category': 'Physics',\n",
    "    'name': 'Paul Dirac',\n",
    "    'nationality': 'British',\n",
    "    'sex': 'male',\n",
    "    'year': 1933},\n",
    "    {'category': 'Chemistry',\n",
    "    'name': 'Marie Curie',\n",
    "    'nationality': 'Polish',\n",
    "    'sex': 'female',\n",
    "    'year': 1911},\n",
    "]"
   ]
  },
  {
   "cell_type": "markdown",
   "metadata": {},
   "source": [
    "### Working with files manually (without csv module)"
   ]
  },
  {
   "cell_type": "code",
   "execution_count": 10,
   "metadata": {
    "collapsed": true
   },
   "outputs": [],
   "source": [
    "cols = list(nobel_winners[0].keys())\n",
    "cols.sort()\n",
    "with open('data/nobel_winners.csv', 'w') as f:\n",
    "    f.write(','.join(cols) + '\\n')\n",
    "    for o in nobel_winners:\n",
    "        row = [str(o[col]) for col in cols]\n",
    "        f.write(','.join(row) + '\\n')"
   ]
  },
  {
   "cell_type": "markdown",
   "metadata": {},
   "source": [
    "### Now with csv"
   ]
  },
  {
   "cell_type": "code",
   "execution_count": 24,
   "metadata": {},
   "outputs": [
    {
     "name": "stdout",
     "output_type": "stream",
     "text": [
      "['category', 'name', 'nationality', 'sex', 'year']\n",
      "['Physics', 'Albert Einstein', 'Swiss', 'male', '1921']\n",
      "['Physics', 'Paul Dirac', 'British', 'male', '1933']\n",
      "['Chemistry', 'Marie Curie', 'Polish', 'female', '1911']\n",
      "[{'category': 'Physics', 'nationality': 'Swiss', 'year': 1921, 'name': 'Albert Einstein', 'sex': 'male'}, {'category': 'Physics', 'nationality': 'British', 'year': 1933, 'name': 'Paul Dirac', 'sex': 'male'}, {'category': 'Chemistry', 'nationality': 'Polish', 'year': 1911, 'name': 'Marie Curie', 'sex': 'female'}]\n"
     ]
    }
   ],
   "source": [
    "import csv\n",
    "\n",
    "#Write\n",
    "with open('data/nobel_winners.csv', 'wb') as f:\n",
    "    fieldnames = nobel_winners[0].keys()\n",
    "    fieldnames.sort()\n",
    "    writer = csv.DictWriter(f, fieldnames=fieldnames)\n",
    "    writer.writeheader()\n",
    "    for w in nobel_winners:\n",
    "        writer.writerow(w)\n",
    "        \n",
    "#Read using csv.reader which returns strings\n",
    "with open('data/nobel_winners.csv') as f:\n",
    "    reader = csv.reader(f)\n",
    "    for row in reader:\n",
    "        print(row)\n",
    "        \n",
    "#Read in more convenient python dict form\n",
    "with open('data/nobel_winners.csv') as f:\n",
    "    reader = csv.DictReader(f)\n",
    "    nobel_winners = list(reader)\n",
    "for w in nobel_winners:\n",
    "    w['year'] = int(w['year']) #convert string to int\n",
    "print(nobel_winners)\n",
    "\n"
   ]
  },
  {
   "cell_type": "markdown",
   "metadata": {},
   "source": [
    "### Now save in JSON instead of csv"
   ]
  },
  {
   "cell_type": "code",
   "execution_count": 25,
   "metadata": {},
   "outputs": [
    {
     "name": "stdout",
     "output_type": "stream",
     "text": [
      "[{u'category': u'Physics', u'nationality': u'Swiss', u'sex': u'male', u'name': u'Albert Einstein', u'year': 1921}, {u'category': u'Physics', u'nationality': u'British', u'sex': u'male', u'name': u'Paul Dirac', u'year': 1933}, {u'category': u'Chemistry', u'nationality': u'Polish', u'sex': u'female', u'name': u'Marie Curie', u'year': 1911}]\n"
     ]
    }
   ],
   "source": [
    "import json\n",
    "\n",
    "with open('data/nobel_winners.json', 'w') as f:\n",
    "    json.dump(nobel_winners, f)\n",
    "    \n",
    "with open('data/nobel_winners.json') as f:\n",
    "    nobel_winners = json.load(f)\n",
    "    #print(f.read()) #note that we don't need to convert year to ints\n",
    "print(nobel_winners)"
   ]
  },
  {
   "cell_type": "markdown",
   "metadata": {},
   "source": [
    "### Dealing with Dates and Times\n"
   ]
  },
  {
   "cell_type": "code",
   "execution_count": 26,
   "metadata": {},
   "outputs": [],
   "source": [
    "from datetime import datetime\n",
    "#json.dumps(datetime.now()) # will trigger an error"
   ]
  },
  {
   "cell_type": "code",
   "execution_count": 27,
   "metadata": {},
   "outputs": [
    {
     "data": {
      "text/plain": [
       "'{\"time\": \"2017-08-22T22:43:12.078080\"}'"
      ]
     },
     "execution_count": 27,
     "metadata": {},
     "output_type": "execute_result"
    }
   ],
   "source": [
    "import datetime\n",
    "from dateutil import parser\n",
    "import json\n",
    "\n",
    "class JSONDateTimeEncoder(json.JSONEncoder):\n",
    "    def default(self, obj):\n",
    "        if isinstance(obj, (datetime.date, datetime.datetime)):\n",
    "            return obj.isoformat()\n",
    "        else:\n",
    "            return json.JSONEncoder.default(self, obj)\n",
    "        \n",
    "def mydumps(obj):\n",
    "    return json.dumps(obj, cls=JSONDateTimeEncoder)\n",
    "now_str = mydumps({'time': datetime.datetime.now()})\n",
    "now_str\n"
   ]
  },
  {
   "cell_type": "code",
   "execution_count": 28,
   "metadata": {},
   "outputs": [
    {
     "name": "stdout",
     "output_type": "stream",
     "text": [
      "2017-08-22T22:43:12.593377\n",
      "2017-08-22 22:43:12.593377\n"
     ]
    }
   ],
   "source": [
    "from datetime import datetime\n",
    "import dateutil\n",
    "\n",
    "d = datetime.now()\n",
    "d_iso = d.isoformat()  # convert to text\n",
    "print(d_iso)\n",
    "\n",
    "d = dateutil.parser.parse(d_iso) # back to a datetime object\n",
    "print(d)"
   ]
  },
  {
   "cell_type": "markdown",
   "metadata": {},
   "source": [
    "# Databases"
   ]
  },
  {
   "cell_type": "markdown",
   "metadata": {},
   "source": [
    "## SQL Databases (all using SQLAlchemy as go-between interface)"
   ]
  },
  {
   "cell_type": "markdown",
   "metadata": {},
   "source": [
    "Using SQLAlchemy -- first with SQLite\n",
    "\n",
    "Begin by creating the engine."
   ]
  },
  {
   "cell_type": "code",
   "execution_count": 29,
   "metadata": {},
   "outputs": [
    {
     "name": "stdout",
     "output_type": "stream",
     "text": [
      "2017-08-22 22:43:14,805 INFO sqlalchemy.engine.base.Engine SELECT CAST('test plain returns' AS VARCHAR(60)) AS anon_1\n",
      "2017-08-22 22:43:14,806 INFO sqlalchemy.engine.base.Engine ()\n",
      "2017-08-22 22:43:14,807 INFO sqlalchemy.engine.base.Engine SELECT CAST('test unicode returns' AS VARCHAR(60)) AS anon_1\n",
      "2017-08-22 22:43:14,807 INFO sqlalchemy.engine.base.Engine ()\n",
      "2017-08-22 22:43:14,808 INFO sqlalchemy.engine.base.Engine PRAGMA table_info(\"winners\")\n",
      "2017-08-22 22:43:14,809 INFO sqlalchemy.engine.base.Engine ()\n",
      "2017-08-22 22:43:14,811 INFO sqlalchemy.engine.base.Engine \n",
      "CREATE TABLE winners (\n",
      "\tid INTEGER NOT NULL, \n",
      "\tname VARCHAR, \n",
      "\tcategory VARCHAR, \n",
      "\tyear INTEGER, \n",
      "\tnationality VARCHAR, \n",
      "\tsex VARCHAR(6), \n",
      "\tPRIMARY KEY (id), \n",
      "\tCHECK (sex IN ('male', 'female'))\n",
      ")\n",
      "\n",
      "\n",
      "2017-08-22 22:43:14,812 INFO sqlalchemy.engine.base.Engine ()\n",
      "2017-08-22 22:43:14,819 INFO sqlalchemy.engine.base.Engine COMMIT\n"
     ]
    }
   ],
   "source": [
    "import sqlalchemy\n",
    "from sqlalchemy.ext.declarative import declarative_base\n",
    "from sqlalchemy import Column, Integer, String, Enum\n",
    "\n",
    "engine = sqlalchemy.create_engine('sqlite:///data/nobel_prize.db', echo=True)\n",
    "\n",
    "#Now define the database tables using the new declarative style (recommended)\n",
    "\n",
    "Base = declarative_base()\n",
    "\n",
    "# now use Base to define the tables\n",
    "\n",
    "class Winner(Base):\n",
    "    __tablename__ = 'winners'\n",
    "    id = Column(Integer, primary_key=True)\n",
    "    name = Column(String)\n",
    "    category = Column(String)\n",
    "    year = Column(Integer)\n",
    "    nationality = Column(String)\n",
    "    sex = Column(Enum('male', 'female'))\n",
    "    \n",
    "    def __repr__(self):\n",
    "        return(\"<Winner(name={}, category={}, year={})>\".format(self.name,\n",
    "                                    self.category, self.year))\n",
    "# Having defined Base subclass, we supply is metadata.create_all method\n",
    "# with our database engine to create our database.  Because we had set\n",
    "# echo=True, it will tell us the SQL instructions it generates.\n",
    "Base.metadata.create_all(engine)"
   ]
  },
  {
   "cell_type": "code",
   "execution_count": 30,
   "metadata": {},
   "outputs": [
    {
     "name": "stdout",
     "output_type": "stream",
     "text": [
      "2017-08-22 22:43:18,219 INFO sqlalchemy.engine.base.Engine BEGIN (implicit)\n",
      "2017-08-22 22:43:18,221 INFO sqlalchemy.engine.base.Engine INSERT INTO winners (name, category, year, nationality, sex) VALUES (?, ?, ?, ?, ?)\n",
      "2017-08-22 22:43:18,221 INFO sqlalchemy.engine.base.Engine (u'Albert Einstein', u'Physics', 1921, u'Swiss', u'male')\n",
      "2017-08-22 22:43:18,223 INFO sqlalchemy.engine.base.Engine INSERT INTO winners (name, category, year, nationality, sex) VALUES (?, ?, ?, ?, ?)\n",
      "2017-08-22 22:43:18,223 INFO sqlalchemy.engine.base.Engine (u'Paul Dirac', u'Physics', 1933, u'British', u'male')\n",
      "2017-08-22 22:43:18,226 INFO sqlalchemy.engine.base.Engine INSERT INTO winners (name, category, year, nationality, sex) VALUES (?, ?, ?, ?, ?)\n",
      "2017-08-22 22:43:18,227 INFO sqlalchemy.engine.base.Engine (u'Marie Curie', u'Chemistry', 1911, u'Polish', u'female')\n",
      "2017-08-22 22:43:18,230 INFO sqlalchemy.engine.base.Engine COMMIT\n"
     ]
    }
   ],
   "source": [
    "# Now start adding winner instances to this new database\n",
    "from sqlalchemy.orm import sessionmaker\n",
    "\n",
    "Session = sessionmaker(bind=engine)\n",
    "session = Session()\n",
    "\n",
    "albert = Winner(**nobel_winners[0])\n",
    "session.add(albert)\n",
    "session.new #new is the set of items queued up this session\n",
    "# these aren't committed to the DB until we call .commit\n",
    "session.expunge(albert) #take this out of the queue\n",
    "winner_rows = [Winner(**w) for w in nobel_winners]\n",
    "session.add_all(winner_rows)\n",
    "session.commit()"
   ]
  },
  {
   "cell_type": "markdown",
   "metadata": {},
   "source": [
    "### Querying the Database"
   ]
  },
  {
   "cell_type": "code",
   "execution_count": 31,
   "metadata": {},
   "outputs": [
    {
     "name": "stdout",
     "output_type": "stream",
     "text": [
      "2017-08-22 22:43:22,722 INFO sqlalchemy.engine.base.Engine BEGIN (implicit)\n",
      "2017-08-22 22:43:22,724 INFO sqlalchemy.engine.base.Engine SELECT count(*) AS count_1 \n",
      "FROM (SELECT winners.id AS winners_id, winners.name AS winners_name, winners.category AS winners_category, winners.year AS winners_year, winners.nationality AS winners_nationality, winners.sex AS winners_sex \n",
      "FROM winners) AS anon_1\n",
      "2017-08-22 22:43:22,725 INFO sqlalchemy.engine.base.Engine ()\n",
      "2017-08-22 22:43:22,727 INFO sqlalchemy.engine.base.Engine SELECT winners.id AS winners_id, winners.name AS winners_name, winners.category AS winners_category, winners.year AS winners_year, winners.nationality AS winners_nationality, winners.sex AS winners_sex \n",
      "FROM winners \n",
      "WHERE winners.nationality = ?\n",
      "2017-08-22 22:43:22,728 INFO sqlalchemy.engine.base.Engine ('Swiss',)\n",
      "2017-08-22 22:43:22,730 INFO sqlalchemy.engine.base.Engine SELECT winners.id AS winners_id, winners.name AS winners_name, winners.category AS winners_category, winners.year AS winners_year, winners.nationality AS winners_nationality, winners.sex AS winners_sex \n",
      "FROM winners \n",
      "WHERE winners.category = ? AND winners.nationality != ?\n",
      "2017-08-22 22:43:22,731 INFO sqlalchemy.engine.base.Engine ('Physics', 'Swiss')\n"
     ]
    },
    {
     "data": {
      "text/plain": [
       "[<Winner(name=Paul Dirac, category=Physics, year=1933)>]"
      ]
     },
     "execution_count": 31,
     "metadata": {},
     "output_type": "execute_result"
    }
   ],
   "source": [
    "session.query(Winner).count()  # output: 3\n",
    "\n",
    "result = session.query(Winner).filter_by(nationality='Swiss') #filter_by uses keyword expressions\n",
    "list(result)\n",
    "\n",
    "result = session.query(Winner).filter(Winner.category == 'Physics', #filter uses SQL expressions\n",
    "                                     Winner.nationality != 'Swiss')\n",
    "list(result)"
   ]
  },
  {
   "cell_type": "code",
   "execution_count": 32,
   "metadata": {},
   "outputs": [
    {
     "name": "stdout",
     "output_type": "stream",
     "text": [
      "2017-08-22 22:43:25,228 INFO sqlalchemy.engine.base.Engine SELECT winners.id AS winners_id, winners.name AS winners_name, winners.category AS winners_category, winners.year AS winners_year, winners.nationality AS winners_nationality, winners.sex AS winners_sex \n",
      "FROM winners \n",
      "WHERE winners.id = ?\n",
      "2017-08-22 22:43:25,229 INFO sqlalchemy.engine.base.Engine (3,)\n",
      "2017-08-22 22:43:25,231 INFO sqlalchemy.engine.base.Engine SELECT winners.id AS winners_id, winners.name AS winners_name, winners.category AS winners_category, winners.year AS winners_year, winners.nationality AS winners_nationality, winners.sex AS winners_sex \n",
      "FROM winners ORDER BY winners.year\n",
      "2017-08-22 22:43:25,232 INFO sqlalchemy.engine.base.Engine ()\n"
     ]
    },
    {
     "data": {
      "text/plain": [
       "[<Winner(name=Marie Curie, category=Chemistry, year=1911)>,\n",
       " <Winner(name=Albert Einstein, category=Physics, year=1921)>,\n",
       " <Winner(name=Paul Dirac, category=Physics, year=1933)>]"
      ]
     },
     "execution_count": 32,
     "metadata": {},
     "output_type": "execute_result"
    }
   ],
   "source": [
    "session.query(Winner).get(3) # get the 3rd record\n",
    "\n",
    "res = session.query(Winner).order_by('year')\n",
    "list(res)"
   ]
  },
  {
   "cell_type": "markdown",
   "metadata": {},
   "source": [
    "### Reconstruct our original python dict from out of the DB"
   ]
  },
  {
   "cell_type": "code",
   "execution_count": 33,
   "metadata": {},
   "outputs": [
    {
     "name": "stdout",
     "output_type": "stream",
     "text": [
      "2017-08-22 22:43:30,425 INFO sqlalchemy.engine.base.Engine SELECT winners.id AS winners_id, winners.name AS winners_name, winners.category AS winners_category, winners.year AS winners_year, winners.nationality AS winners_nationality, winners.sex AS winners_sex \n",
      "FROM winners\n",
      "2017-08-22 22:43:30,426 INFO sqlalchemy.engine.base.Engine ()\n"
     ]
    },
    {
     "data": {
      "text/plain": [
       "[{'category': u'Physics',\n",
       "  'name': u'Albert Einstein',\n",
       "  'nationality': u'Swiss',\n",
       "  'sex': u'male',\n",
       "  'year': 1921},\n",
       " {'category': u'Physics',\n",
       "  'name': u'Paul Dirac',\n",
       "  'nationality': u'British',\n",
       "  'sex': u'male',\n",
       "  'year': 1933},\n",
       " {'category': u'Chemistry',\n",
       "  'name': u'Marie Curie',\n",
       "  'nationality': u'Polish',\n",
       "  'sex': u'female',\n",
       "  'year': 1911}]"
      ]
     },
     "execution_count": 33,
     "metadata": {},
     "output_type": "execute_result"
    }
   ],
   "source": [
    "def inst_to_dict(inst, delete_id=True):\n",
    "    dat = {}\n",
    "    for column in inst.__table__.columns: #access instance's table class to get list of column objects\n",
    "        dat[column.name] = getattr(inst, column.name)\n",
    "    if delete_id:\n",
    "        dat.pop('id')\n",
    "    return dat\n",
    "\n",
    "winner_rows = session.query(Winner)\n",
    "new_nobel_winners = [inst_to_dict(w) for w in winner_rows]\n",
    "new_nobel_winners"
   ]
  },
  {
   "cell_type": "markdown",
   "metadata": {},
   "source": [
    "### Updating info in the DB"
   ]
  },
  {
   "cell_type": "code",
   "execution_count": 34,
   "metadata": {},
   "outputs": [
    {
     "name": "stdout",
     "output_type": "stream",
     "text": [
      "2017-08-22 22:43:37,560 INFO sqlalchemy.engine.base.Engine UPDATE winners SET nationality=? WHERE winners.id = ?\n",
      "2017-08-22 22:43:37,561 INFO sqlalchemy.engine.base.Engine ('French', 3)\n",
      "2017-08-22 22:43:37,562 INFO sqlalchemy.engine.base.Engine COMMIT\n",
      "2017-08-22 22:43:37,575 INFO sqlalchemy.engine.base.Engine BEGIN (implicit)\n",
      "2017-08-22 22:43:37,576 INFO sqlalchemy.engine.base.Engine SELECT winners.id AS winners_id, winners.name AS winners_name, winners.category AS winners_category, winners.year AS winners_year, winners.nationality AS winners_nationality, winners.sex AS winners_sex \n",
      "FROM winners \n",
      "WHERE winners.id = ?\n",
      "2017-08-22 22:43:37,577 INFO sqlalchemy.engine.base.Engine (1,)\n",
      "2017-08-22 22:43:37,579 INFO sqlalchemy.engine.base.Engine SELECT winners.id AS winners_id, winners.name AS winners_name, winners.category AS winners_category, winners.year AS winners_year, winners.nationality AS winners_nationality, winners.sex AS winners_sex \n",
      "FROM winners \n",
      "WHERE winners.id = ?\n",
      "2017-08-22 22:43:37,580 INFO sqlalchemy.engine.base.Engine (2,)\n",
      "2017-08-22 22:43:37,582 INFO sqlalchemy.engine.base.Engine SELECT winners.id AS winners_id, winners.name AS winners_name, winners.category AS winners_category, winners.year AS winners_year, winners.nationality AS winners_nationality, winners.sex AS winners_sex \n",
      "FROM winners \n",
      "WHERE winners.id = ?\n",
      "2017-08-22 22:43:37,582 INFO sqlalchemy.engine.base.Engine (3,)\n",
      "2017-08-22 22:43:37,583 INFO sqlalchemy.engine.base.Engine DELETE FROM winners WHERE winners.name = ?\n",
      "2017-08-22 22:43:37,584 INFO sqlalchemy.engine.base.Engine ('Albert Einstein',)\n",
      "2017-08-22 22:43:37,585 INFO sqlalchemy.engine.base.Engine ROLLBACK\n",
      "2017-08-22 22:43:37,586 INFO sqlalchemy.engine.base.Engine \n",
      "DROP TABLE winners\n",
      "2017-08-22 22:43:37,586 INFO sqlalchemy.engine.base.Engine ()\n",
      "2017-08-22 22:43:37,592 INFO sqlalchemy.engine.base.Engine COMMIT\n"
     ]
    }
   ],
   "source": [
    "marie = session.query(Winner).get(3)\n",
    "marie.nationality = 'French'\n",
    "session.dirty #shows pending changes\n",
    "\n",
    "session.commit()\n",
    "\n",
    "# Deleting a result of query\n",
    "session.query(Winner).filter_by(name='Albert Einstein',).delete()\n",
    "\n",
    "# Drop the whole table\n",
    "session.close()\n",
    "Winner.__table__.drop(engine)"
   ]
  },
  {
   "cell_type": "markdown",
   "metadata": {},
   "source": [
    "## NoSQL Databases (MongoDB)"
   ]
  },
  {
   "cell_type": "markdown",
   "metadata": {},
   "source": [
    "Creating the database and collection"
   ]
  },
  {
   "cell_type": "code",
   "execution_count": 35,
   "metadata": {},
   "outputs": [],
   "source": [
    "from pymongo import MongoClient\n",
    "\n",
    "DB_NOBEL_PRIZE = 'nobel_prize' # use string constants or a spell error in retrieval will create new table.\n",
    "COLL_WINNERS = 'winners' # winners collection\n",
    "\n",
    "client = MongoClient()\n",
    "db = client[DB_NOBEL_PRIZE] # creates (or retrieves if it exists) a database\n",
    "coll = db[COLL_WINNERS] # creates (or retrieves if it exists) a collection"
   ]
  },
  {
   "cell_type": "markdown",
   "metadata": {},
   "source": [
    "Accessing the data"
   ]
  },
  {
   "cell_type": "code",
   "execution_count": 40,
   "metadata": {},
   "outputs": [
    {
     "name": "stdout",
     "output_type": "stream",
     "text": [
      "3\n",
      "[{u'category': u'Physics', u'name': u'Albert Einstein', u'sex': u'male', u'year': 1921, u'nationality': u'Swiss', '_id': ObjectId('599d160fa2c4bb1f7401dc8b')}, {u'category': u'Physics', u'name': u'Paul Dirac', u'sex': u'male', u'year': 1933, u'nationality': u'British', '_id': ObjectId('599d160fa2c4bb1f7401dc8c')}, {u'category': u'Chemistry', u'name': u'Marie Curie', u'sex': u'female', u'year': 1911, u'nationality': u'Polish', '_id': ObjectId('599d160fa2c4bb1f7401dc8d')}]\n"
     ]
    }
   ],
   "source": [
    "from pymongo import MongoClient\n",
    "\n",
    "def get_mongo_database(db_name, host='localhost', port=27017, username=None, password=None):\n",
    "    '''Get named database from MongoDB with/out authentication'''\n",
    "    if username and password:\n",
    "        mongo_uri = 'mongodb://{}:{}@{}/{}'.format(username, password, host, db_name)\n",
    "        conn = MongoClient(mongo_uri)\n",
    "    else:\n",
    "        conn = MongoClient(host, port)\n",
    "        \n",
    "    return conn[db_name]\n",
    "\n",
    "db = get_mongo_database(DB_NOBEL_PRIZE)\n",
    "coll = db[COLL_WINNERS]\n",
    "\n",
    "# Insert the dataset\n",
    "coll.insert_many(nobel_winners)\n",
    "print(coll.count())\n",
    "print(nobel_winners) # mongodb has inserted ObjectIds in our original dict."
   ]
  },
  {
   "cell_type": "code",
   "execution_count": 43,
   "metadata": {},
   "outputs": [
    {
     "name": "stdout",
     "output_type": "stream",
     "text": [
      "#1: \n",
      "[{u'category': u'Chemistry', u'name': u'Marie Curie', u'sex': u'female', u'year': 1911, u'nationality': u'Polish', u'_id': ObjectId('599d160fa2c4bb1f7401dc8d')}]\n",
      "#2: \n",
      "[{u'category': u'Physics', u'name': u'Paul Dirac', u'sex': u'male', u'year': 1933, u'nationality': u'British', u'_id': ObjectId('599d160fa2c4bb1f7401dc8c')}]\n",
      "#3: \n",
      "[{u'category': u'Physics', u'name': u'Paul Dirac', u'sex': u'male', u'year': 1933, u'nationality': u'British', u'_id': ObjectId('599d160fa2c4bb1f7401dc8c')}, {u'category': u'Chemistry', u'name': u'Marie Curie', u'sex': u'female', u'year': 1911, u'nationality': u'Polish', u'_id': ObjectId('599d160fa2c4bb1f7401dc8d')}]\n"
     ]
    }
   ],
   "source": [
    "# query/find items\n",
    "res = coll.find({'category':'Chemistry'})\n",
    "print('#1: \\n{}'.format( list(res) ))\n",
    "\n",
    "res = coll.find({'year': {'$gt': 1930}})\n",
    "print('#2: \\n{}'.format( list(res) ))\n",
    "\n",
    "res = coll.find({'$or': [{'year': {'$gt': 1930}}, {'sex': 'female'}]})\n",
    "print('#3: \\n{}'.format( list(res) ))\n"
   ]
  },
  {
   "cell_type": "code",
   "execution_count": 44,
   "metadata": {},
   "outputs": [
    {
     "name": "stdout",
     "output_type": "stream",
     "text": [
      "[{u'category': u'Physics', u'name': u'Albert Einstein', u'sex': u'male', u'year': 1921, u'nationality': u'Swiss'}, {u'category': u'Physics', u'name': u'Paul Dirac', u'sex': u'male', u'year': 1933, u'nationality': u'British'}, {u'category': u'Chemistry', u'name': u'Marie Curie', u'sex': u'female', u'year': 1911, u'nationality': u'Polish'}]\n"
     ]
    }
   ],
   "source": [
    "# recreate the original dict\n",
    "\n",
    "def mongo_coll_to_dicts(dbname='test', collname='test', query=None, del_id=True, **kw):\n",
    "    if not query: \n",
    "        query = {}\n",
    "    db = get_mongo_database(dbname, **kw)\n",
    "    res = list(db[collname].find(query))\n",
    "    \n",
    "    if del_id:\n",
    "        for r in res:\n",
    "            r.pop('_id')\n",
    "            \n",
    "    return res\n",
    "\n",
    "new_nobel_winners = mongo_coll_to_dicts(DB_NOBEL_PRIZE, COLL_WINNERS)\n",
    "print(new_nobel_winners)"
   ]
  },
  {
   "cell_type": "code",
   "execution_count": 38,
   "metadata": {},
   "outputs": [
    {
     "data": {
      "text/plain": [
       "0"
      ]
     },
     "execution_count": 38,
     "metadata": {},
     "output_type": "execute_result"
    }
   ],
   "source": [
    "# delete items\n",
    "coll.delete_many({'category':'Chemistry'}) #specific items that meet filter\n",
    "coll.delete_many({})  # deletes everything (no filter)\n",
    "coll.count()"
   ]
  }
 ],
 "metadata": {
  "kernelspec": {
   "display_name": "Python 3",
   "language": "python",
   "name": "python3"
  },
  "language_info": {
   "codemirror_mode": {
    "name": "ipython",
    "version": 3
   },
   "file_extension": ".py",
   "mimetype": "text/x-python",
   "name": "python",
   "nbconvert_exporter": "python",
   "pygments_lexer": "ipython3",
   "version": "3.6.8"
  }
 },
 "nbformat": 4,
 "nbformat_minor": 2
}
