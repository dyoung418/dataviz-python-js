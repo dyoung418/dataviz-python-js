{
 "cells": [
  {
   "cell_type": "markdown",
   "metadata": {},
   "source": [
    "# Pandas Basics"
   ]
  },
  {
   "cell_type": "markdown",
   "metadata": {},
   "source": [
    "## Index access"
   ]
  },
  {
   "cell_type": "code",
   "execution_count": 12,
   "metadata": {
    "collapsed": false
   },
   "outputs": [
    {
     "data": {
      "text/html": [
       "<div>\n",
       "<style>\n",
       "    .dataframe thead tr:only-child th {\n",
       "        text-align: right;\n",
       "    }\n",
       "\n",
       "    .dataframe thead th {\n",
       "        text-align: left;\n",
       "    }\n",
       "\n",
       "    .dataframe tbody tr th {\n",
       "        vertical-align: top;\n",
       "    }\n",
       "</style>\n",
       "<table border=\"1\" class=\"dataframe\">\n",
       "  <thead>\n",
       "    <tr style=\"text-align: right;\">\n",
       "      <th></th>\n",
       "      <th>born_in</th>\n",
       "      <th>category</th>\n",
       "      <th>country</th>\n",
       "      <th>date_of_birth</th>\n",
       "      <th>gender</th>\n",
       "      <th>link</th>\n",
       "      <th>name</th>\n",
       "      <th>place_of_birth</th>\n",
       "      <th>place_of_death</th>\n",
       "      <th>text</th>\n",
       "      <th>year</th>\n",
       "    </tr>\n",
       "  </thead>\n",
       "  <tbody>\n",
       "    <tr>\n",
       "      <th>0</th>\n",
       "      <td></td>\n",
       "      <td>Physics</td>\n",
       "      <td>Austria</td>\n",
       "      <td>25 April 1900</td>\n",
       "      <td>male</td>\n",
       "      <td>http://en.wikipedia.org/wiki/Wolfgang_Pauli</td>\n",
       "      <td>Wolfgang Pauli</td>\n",
       "      <td>Vienna</td>\n",
       "      <td>Zurich</td>\n",
       "      <td>Wolfgang Pauli , Physics, 1945</td>\n",
       "      <td>1945</td>\n",
       "    </tr>\n",
       "    <tr>\n",
       "      <th>1</th>\n",
       "      <td>Austria</td>\n",
       "      <td>Chemistry</td>\n",
       "      <td></td>\n",
       "      <td>3 December 1900</td>\n",
       "      <td>male</td>\n",
       "      <td>http://en.wikipedia.org/wiki/Richard_Kuhn</td>\n",
       "      <td>Richard Kuhn *</td>\n",
       "      <td>Vienna</td>\n",
       "      <td>Heidelberg</td>\n",
       "      <td>Richard Kuhn *, Chemistry, 1938</td>\n",
       "      <td>1938</td>\n",
       "    </tr>\n",
       "    <tr>\n",
       "      <th>2</th>\n",
       "      <td></td>\n",
       "      <td>Physiology or Medicine</td>\n",
       "      <td>Australia</td>\n",
       "      <td>27 January 1903</td>\n",
       "      <td>male</td>\n",
       "      <td>http://en.wikipedia.org/wiki/John_Eccles_(neur...</td>\n",
       "      <td>John Carew Eccles</td>\n",
       "      <td>Melbourne</td>\n",
       "      <td>Locarno</td>\n",
       "      <td>John Carew Eccles , Physiology or Medicine, 1963</td>\n",
       "      <td>1963</td>\n",
       "    </tr>\n",
       "    <tr>\n",
       "      <th>3</th>\n",
       "      <td></td>\n",
       "      <td>Physiology or Medicine</td>\n",
       "      <td>Australia</td>\n",
       "      <td>3 September 1899</td>\n",
       "      <td>male</td>\n",
       "      <td>http://en.wikipedia.org/wiki/Frank_Macfarlane_...</td>\n",
       "      <td>Sir Frank Macfarlane Burnet</td>\n",
       "      <td>Traralgon</td>\n",
       "      <td>Melbourne</td>\n",
       "      <td>Sir Frank Macfarlane Burnet , Physiology or Me...</td>\n",
       "      <td>1960</td>\n",
       "    </tr>\n",
       "    <tr>\n",
       "      <th>4</th>\n",
       "      <td></td>\n",
       "      <td>Physiology or Medicine</td>\n",
       "      <td>Australia</td>\n",
       "      <td>24 September 1898</td>\n",
       "      <td>male</td>\n",
       "      <td>http://en.wikipedia.org/wiki/Howard_Florey</td>\n",
       "      <td>Howard Florey</td>\n",
       "      <td>Adelaide</td>\n",
       "      <td>Oxford</td>\n",
       "      <td>Howard Florey , Physiology or Medicine, 1945</td>\n",
       "      <td>1945</td>\n",
       "    </tr>\n",
       "  </tbody>\n",
       "</table>\n",
       "</div>"
      ],
      "text/plain": [
       "   born_in                category    country      date_of_birth gender  \\\n",
       "0                          Physics    Austria      25 April 1900   male   \n",
       "1  Austria               Chemistry               3 December 1900   male   \n",
       "2           Physiology or Medicine  Australia    27 January 1903   male   \n",
       "3           Physiology or Medicine  Australia   3 September 1899   male   \n",
       "4           Physiology or Medicine  Australia  24 September 1898   male   \n",
       "\n",
       "                                                link  \\\n",
       "0        http://en.wikipedia.org/wiki/Wolfgang_Pauli   \n",
       "1          http://en.wikipedia.org/wiki/Richard_Kuhn   \n",
       "2  http://en.wikipedia.org/wiki/John_Eccles_(neur...   \n",
       "3  http://en.wikipedia.org/wiki/Frank_Macfarlane_...   \n",
       "4         http://en.wikipedia.org/wiki/Howard_Florey   \n",
       "\n",
       "                          name place_of_birth place_of_death  \\\n",
       "0               Wolfgang Pauli         Vienna         Zurich   \n",
       "1               Richard Kuhn *         Vienna     Heidelberg   \n",
       "2            John Carew Eccles      Melbourne        Locarno   \n",
       "3  Sir Frank Macfarlane Burnet      Traralgon      Melbourne   \n",
       "4                Howard Florey       Adelaide         Oxford   \n",
       "\n",
       "                                                text  year  \n",
       "0                     Wolfgang Pauli , Physics, 1945  1945  \n",
       "1                    Richard Kuhn *, Chemistry, 1938  1938  \n",
       "2   John Carew Eccles , Physiology or Medicine, 1963  1963  \n",
       "3  Sir Frank Macfarlane Burnet , Physiology or Me...  1960  \n",
       "4       Howard Florey , Physiology or Medicine, 1945  1945  "
      ]
     },
     "execution_count": 12,
     "metadata": {},
     "output_type": "execute_result"
    }
   ],
   "source": [
    "import pandas as pd\n",
    "\n",
    "df = pd.read_json('data/nwinners.json')\n",
    "df.head()"
   ]
  },
  {
   "cell_type": "markdown",
   "metadata": {},
   "source": [
    "Initially, Pandas DataFrames are indexed by a columns property, which is a Panda index instance.   DataFrame rows also initially have a single numeric index (Pandas can have multiple indexes, including string or datetime indices, if necessary) which is called by the index property"
   ]
  },
  {
   "cell_type": "code",
   "execution_count": 13,
   "metadata": {
    "collapsed": false
   },
   "outputs": [
    {
     "data": {
      "text/plain": [
       "Index([u'born_in', u'category', u'country', u'date_of_birth', u'gender',\n",
       "       u'link', u'name', u'place_of_birth', u'place_of_death', u'text',\n",
       "       u'year'],\n",
       "      dtype='object')"
      ]
     },
     "execution_count": 13,
     "metadata": {},
     "output_type": "execute_result"
    }
   ],
   "source": [
    "df.columns"
   ]
  },
  {
   "cell_type": "code",
   "execution_count": 14,
   "metadata": {
    "collapsed": false
   },
   "outputs": [
    {
     "data": {
      "text/plain": [
       "Int64Index([   0,    1,    2,    3,    4,    5,    6,    7,    8,    9,\n",
       "            ...\n",
       "            1059, 1060, 1061, 1062, 1063, 1064, 1065, 1066, 1067, 1068],\n",
       "           dtype='int64', length=1069)"
      ]
     },
     "execution_count": 14,
     "metadata": {},
     "output_type": "execute_result"
    }
   ],
   "source": [
    "df.index"
   ]
  },
  {
   "cell_type": "markdown",
   "metadata": {},
   "source": [
    "Often, to aid selections, a column of the dataframe will be se to the index via the set_index method"
   ]
  },
  {
   "cell_type": "code",
   "execution_count": 15,
   "metadata": {
    "collapsed": false
   },
   "outputs": [
    {
     "data": {
      "text/html": [
       "<div>\n",
       "<style>\n",
       "    .dataframe thead tr:only-child th {\n",
       "        text-align: right;\n",
       "    }\n",
       "\n",
       "    .dataframe thead th {\n",
       "        text-align: left;\n",
       "    }\n",
       "\n",
       "    .dataframe tbody tr th {\n",
       "        vertical-align: top;\n",
       "    }\n",
       "</style>\n",
       "<table border=\"1\" class=\"dataframe\">\n",
       "  <thead>\n",
       "    <tr style=\"text-align: right;\">\n",
       "      <th></th>\n",
       "      <th>born_in</th>\n",
       "      <th>category</th>\n",
       "      <th>country</th>\n",
       "      <th>date_of_birth</th>\n",
       "      <th>gender</th>\n",
       "      <th>link</th>\n",
       "      <th>place_of_birth</th>\n",
       "      <th>place_of_death</th>\n",
       "      <th>text</th>\n",
       "      <th>year</th>\n",
       "    </tr>\n",
       "    <tr>\n",
       "      <th>name</th>\n",
       "      <th></th>\n",
       "      <th></th>\n",
       "      <th></th>\n",
       "      <th></th>\n",
       "      <th></th>\n",
       "      <th></th>\n",
       "      <th></th>\n",
       "      <th></th>\n",
       "      <th></th>\n",
       "      <th></th>\n",
       "    </tr>\n",
       "  </thead>\n",
       "  <tbody>\n",
       "    <tr>\n",
       "      <th>Albert Einstein</th>\n",
       "      <td></td>\n",
       "      <td>Physics</td>\n",
       "      <td>Switzerland</td>\n",
       "      <td>14 March 1879</td>\n",
       "      <td>male</td>\n",
       "      <td>http://en.wikipedia.org/wiki/Albert_Einstein</td>\n",
       "      <td>Ulm</td>\n",
       "      <td>Princeton</td>\n",
       "      <td>Albert Einstein ,  born in Germany , Physics, ...</td>\n",
       "      <td>1921</td>\n",
       "    </tr>\n",
       "    <tr>\n",
       "      <th>Albert Einstein</th>\n",
       "      <td></td>\n",
       "      <td>Physics</td>\n",
       "      <td>Germany</td>\n",
       "      <td>14 March 1879</td>\n",
       "      <td>male</td>\n",
       "      <td>http://en.wikipedia.org/wiki/Albert_Einstein</td>\n",
       "      <td>Ulm</td>\n",
       "      <td>Princeton</td>\n",
       "      <td>Albert Einstein , Physics, 1921</td>\n",
       "      <td>1921</td>\n",
       "    </tr>\n",
       "  </tbody>\n",
       "</table>\n",
       "</div>"
      ],
      "text/plain": [
       "                born_in category      country  date_of_birth gender  \\\n",
       "name                                                                  \n",
       "Albert Einstein          Physics  Switzerland  14 March 1879   male   \n",
       "Albert Einstein          Physics      Germany  14 March 1879   male   \n",
       "\n",
       "                                                         link place_of_birth  \\\n",
       "name                                                                           \n",
       "Albert Einstein  http://en.wikipedia.org/wiki/Albert_Einstein            Ulm   \n",
       "Albert Einstein  http://en.wikipedia.org/wiki/Albert_Einstein            Ulm   \n",
       "\n",
       "                place_of_death  \\\n",
       "name                             \n",
       "Albert Einstein      Princeton   \n",
       "Albert Einstein      Princeton   \n",
       "\n",
       "                                                              text  year  \n",
       "name                                                                      \n",
       "Albert Einstein  Albert Einstein ,  born in Germany , Physics, ...  1921  \n",
       "Albert Einstein                    Albert Einstein , Physics, 1921  1921  "
      ]
     },
     "execution_count": 15,
     "metadata": {},
     "output_type": "execute_result"
    }
   ],
   "source": [
    "df = df.set_index('name')\n",
    "df.loc['Albert Einstein']"
   ]
  },
  {
   "cell_type": "code",
   "execution_count": 16,
   "metadata": {
    "collapsed": false
   },
   "outputs": [],
   "source": [
    "df.reset_index()\n",
    "pass"
   ]
  },
  {
   "cell_type": "code",
   "execution_count": 17,
   "metadata": {
    "collapsed": false
   },
   "outputs": [
    {
     "data": {
      "text/plain": [
       "born_in                                                            \n",
       "category                                     Physiology or Medicine\n",
       "country                                                   Australia\n",
       "date_of_birth                                       27 January 1903\n",
       "gender                                                         male\n",
       "link              http://en.wikipedia.org/wiki/John_Eccles_(neur...\n",
       "place_of_birth                                            Melbourne\n",
       "place_of_death                                              Locarno\n",
       "text               John Carew Eccles , Physiology or Medicine, 1963\n",
       "year                                                           1963\n",
       "Name: John Carew Eccles, dtype: object"
      ]
     },
     "execution_count": 17,
     "metadata": {},
     "output_type": "execute_result"
    }
   ],
   "source": [
    "df.iloc[2]"
   ]
  },
  {
   "cell_type": "markdown",
   "metadata": {},
   "source": [
    "You can get a column with dot notation or conventional array access by keyword string"
   ]
  },
  {
   "cell_type": "code",
   "execution_count": 18,
   "metadata": {
    "collapsed": false
   },
   "outputs": [
    {
     "data": {
      "text/plain": [
       "name\n",
       "Wolfgang Pauli                 male\n",
       "Richard Kuhn *                 male\n",
       "John Carew Eccles              male\n",
       "Sir Frank Macfarlane Burnet    male\n",
       "Howard Florey                  male\n",
       "Name: gender, dtype: object"
      ]
     },
     "execution_count": 18,
     "metadata": {},
     "output_type": "execute_result"
    }
   ],
   "source": [
    "gender_col = df['gender']  # or df.gender\n",
    "gender_col.head()"
   ]
  },
  {
   "cell_type": "markdown",
   "metadata": {
    "collapsed": true
   },
   "source": [
    "## Grouping"
   ]
  },
  {
   "cell_type": "markdown",
   "metadata": {},
   "source": [
    "To select groups (or subsets of rows) and return a new, filtered dataframe, use groupby"
   ]
  },
  {
   "cell_type": "code",
   "execution_count": 19,
   "metadata": {
    "collapsed": false
   },
   "outputs": [
    {
     "data": {
      "text/plain": [
       "[u'',\n",
       " u'Physiology or Medicine',\n",
       " u'Literature',\n",
       " u'Economics',\n",
       " u'Peace',\n",
       " u'Chemistry',\n",
       " u'Physics']"
      ]
     },
     "execution_count": 19,
     "metadata": {},
     "output_type": "execute_result"
    }
   ],
   "source": [
    "df = df.groupby('category')\n",
    "df.groups.keys()"
   ]
  },
  {
   "cell_type": "code",
   "execution_count": 20,
   "metadata": {
    "collapsed": false
   },
   "outputs": [
    {
     "data": {
      "text/html": [
       "<div>\n",
       "<style>\n",
       "    .dataframe thead tr:only-child th {\n",
       "        text-align: right;\n",
       "    }\n",
       "\n",
       "    .dataframe thead th {\n",
       "        text-align: left;\n",
       "    }\n",
       "\n",
       "    .dataframe tbody tr th {\n",
       "        vertical-align: top;\n",
       "    }\n",
       "</style>\n",
       "<table border=\"1\" class=\"dataframe\">\n",
       "  <thead>\n",
       "    <tr style=\"text-align: right;\">\n",
       "      <th></th>\n",
       "      <th>born_in</th>\n",
       "      <th>category</th>\n",
       "      <th>country</th>\n",
       "      <th>date_of_birth</th>\n",
       "      <th>gender</th>\n",
       "      <th>link</th>\n",
       "      <th>place_of_birth</th>\n",
       "      <th>place_of_death</th>\n",
       "      <th>text</th>\n",
       "      <th>year</th>\n",
       "    </tr>\n",
       "    <tr>\n",
       "      <th>name</th>\n",
       "      <th></th>\n",
       "      <th></th>\n",
       "      <th></th>\n",
       "      <th></th>\n",
       "      <th></th>\n",
       "      <th></th>\n",
       "      <th></th>\n",
       "      <th></th>\n",
       "      <th></th>\n",
       "      <th></th>\n",
       "    </tr>\n",
       "  </thead>\n",
       "  <tbody>\n",
       "    <tr>\n",
       "      <th>Wolfgang Pauli</th>\n",
       "      <td></td>\n",
       "      <td>Physics</td>\n",
       "      <td>Austria</td>\n",
       "      <td>25 April 1900</td>\n",
       "      <td>male</td>\n",
       "      <td>http://en.wikipedia.org/wiki/Wolfgang_Pauli</td>\n",
       "      <td>Vienna</td>\n",
       "      <td>Zurich</td>\n",
       "      <td>Wolfgang Pauli , Physics, 1945</td>\n",
       "      <td>1945</td>\n",
       "    </tr>\n",
       "    <tr>\n",
       "      <th>Arthur H. Compton</th>\n",
       "      <td></td>\n",
       "      <td>Physics</td>\n",
       "      <td>United States</td>\n",
       "      <td>10 September 1892</td>\n",
       "      <td>male</td>\n",
       "      <td>http://en.wikipedia.org/wiki/Arthur_H._Compton</td>\n",
       "      <td>Wooster</td>\n",
       "      <td>Berkeley</td>\n",
       "      <td>Arthur H. Compton , Physics, 1927</td>\n",
       "      <td>1927</td>\n",
       "    </tr>\n",
       "    <tr>\n",
       "      <th>Robert A. Millikan</th>\n",
       "      <td></td>\n",
       "      <td>Physics</td>\n",
       "      <td>United States</td>\n",
       "      <td>22 March 1868</td>\n",
       "      <td>male</td>\n",
       "      <td>http://en.wikipedia.org/wiki/Robert_A._Millikan</td>\n",
       "      <td>Morrison</td>\n",
       "      <td>San Marino</td>\n",
       "      <td>Robert A. Millikan , Physics, 1923</td>\n",
       "      <td>1923</td>\n",
       "    </tr>\n",
       "    <tr>\n",
       "      <th>Albert A. Michelson</th>\n",
       "      <td></td>\n",
       "      <td>Physics</td>\n",
       "      <td>United States</td>\n",
       "      <td>19 December 1852</td>\n",
       "      <td>male</td>\n",
       "      <td>http://en.wikipedia.org/wiki/Albert_A._Michelson</td>\n",
       "      <td>Province of Posen</td>\n",
       "      <td>Pasadena</td>\n",
       "      <td>Albert A. Michelson ,  born in then Germany, n...</td>\n",
       "      <td>1907</td>\n",
       "    </tr>\n",
       "    <tr>\n",
       "      <th>Ernest Lawrence</th>\n",
       "      <td></td>\n",
       "      <td>Physics</td>\n",
       "      <td>United States</td>\n",
       "      <td>8 August 1901</td>\n",
       "      <td>male</td>\n",
       "      <td>http://en.wikipedia.org/wiki/Ernest_Lawrence</td>\n",
       "      <td>Canton</td>\n",
       "      <td>Palo Alto</td>\n",
       "      <td>Ernest Lawrence , Physics, 1939</td>\n",
       "      <td>1939</td>\n",
       "    </tr>\n",
       "  </tbody>\n",
       "</table>\n",
       "</div>"
      ],
      "text/plain": [
       "                    born_in category        country      date_of_birth gender  \\\n",
       "name                                                                            \n",
       "Wolfgang Pauli               Physics        Austria      25 April 1900   male   \n",
       "Arthur H. Compton            Physics  United States  10 September 1892   male   \n",
       "Robert A. Millikan           Physics  United States      22 March 1868   male   \n",
       "Albert A. Michelson          Physics  United States   19 December 1852   male   \n",
       "Ernest Lawrence              Physics  United States      8 August 1901   male   \n",
       "\n",
       "                                                                 link  \\\n",
       "name                                                                    \n",
       "Wolfgang Pauli            http://en.wikipedia.org/wiki/Wolfgang_Pauli   \n",
       "Arthur H. Compton      http://en.wikipedia.org/wiki/Arthur_H._Compton   \n",
       "Robert A. Millikan    http://en.wikipedia.org/wiki/Robert_A._Millikan   \n",
       "Albert A. Michelson  http://en.wikipedia.org/wiki/Albert_A._Michelson   \n",
       "Ernest Lawrence          http://en.wikipedia.org/wiki/Ernest_Lawrence   \n",
       "\n",
       "                        place_of_birth place_of_death  \\\n",
       "name                                                    \n",
       "Wolfgang Pauli                  Vienna         Zurich   \n",
       "Arthur H. Compton              Wooster       Berkeley   \n",
       "Robert A. Millikan            Morrison     San Marino   \n",
       "Albert A. Michelson  Province of Posen       Pasadena   \n",
       "Ernest Lawrence                 Canton      Palo Alto   \n",
       "\n",
       "                                                                  text  year  \n",
       "name                                                                          \n",
       "Wolfgang Pauli                          Wolfgang Pauli , Physics, 1945  1945  \n",
       "Arthur H. Compton                    Arthur H. Compton , Physics, 1927  1927  \n",
       "Robert A. Millikan                  Robert A. Millikan , Physics, 1923  1923  \n",
       "Albert A. Michelson  Albert A. Michelson ,  born in then Germany, n...  1907  \n",
       "Ernest Lawrence                        Ernest Lawrence , Physics, 1939  1939  "
      ]
     },
     "execution_count": 20,
     "metadata": {},
     "output_type": "execute_result"
    }
   ],
   "source": [
    "phy_group = df.get_group('Physics')\n",
    "phy_group.head()"
   ]
  },
  {
   "cell_type": "markdown",
   "metadata": {},
   "source": [
    "Another way to do this is with boolean masks (like numpy and R)"
   ]
  },
  {
   "cell_type": "code",
   "execution_count": 21,
   "metadata": {
    "collapsed": false
   },
   "outputs": [
    {
     "data": {
      "text/html": [
       "<div>\n",
       "<style>\n",
       "    .dataframe thead tr:only-child th {\n",
       "        text-align: right;\n",
       "    }\n",
       "\n",
       "    .dataframe thead th {\n",
       "        text-align: left;\n",
       "    }\n",
       "\n",
       "    .dataframe tbody tr th {\n",
       "        vertical-align: top;\n",
       "    }\n",
       "</style>\n",
       "<table border=\"1\" class=\"dataframe\">\n",
       "  <thead>\n",
       "    <tr style=\"text-align: right;\">\n",
       "      <th></th>\n",
       "      <th>born_in</th>\n",
       "      <th>category</th>\n",
       "      <th>country</th>\n",
       "      <th>date_of_birth</th>\n",
       "      <th>gender</th>\n",
       "      <th>link</th>\n",
       "      <th>name</th>\n",
       "      <th>place_of_birth</th>\n",
       "      <th>place_of_death</th>\n",
       "      <th>text</th>\n",
       "      <th>year</th>\n",
       "    </tr>\n",
       "  </thead>\n",
       "  <tbody>\n",
       "    <tr>\n",
       "      <th>0</th>\n",
       "      <td></td>\n",
       "      <td>Physics</td>\n",
       "      <td>Austria</td>\n",
       "      <td>25 April 1900</td>\n",
       "      <td>male</td>\n",
       "      <td>http://en.wikipedia.org/wiki/Wolfgang_Pauli</td>\n",
       "      <td>Wolfgang Pauli</td>\n",
       "      <td>Vienna</td>\n",
       "      <td>Zurich</td>\n",
       "      <td>Wolfgang Pauli , Physics, 1945</td>\n",
       "      <td>1945</td>\n",
       "    </tr>\n",
       "    <tr>\n",
       "      <th>11</th>\n",
       "      <td></td>\n",
       "      <td>Physics</td>\n",
       "      <td>United States</td>\n",
       "      <td>10 September 1892</td>\n",
       "      <td>male</td>\n",
       "      <td>http://en.wikipedia.org/wiki/Arthur_H._Compton</td>\n",
       "      <td>Arthur H. Compton</td>\n",
       "      <td>Wooster</td>\n",
       "      <td>Berkeley</td>\n",
       "      <td>Arthur H. Compton , Physics, 1927</td>\n",
       "      <td>1927</td>\n",
       "    </tr>\n",
       "    <tr>\n",
       "      <th>13</th>\n",
       "      <td></td>\n",
       "      <td>Physics</td>\n",
       "      <td>United States</td>\n",
       "      <td>22 March 1868</td>\n",
       "      <td>male</td>\n",
       "      <td>http://en.wikipedia.org/wiki/Robert_A._Millikan</td>\n",
       "      <td>Robert A. Millikan</td>\n",
       "      <td>Morrison</td>\n",
       "      <td>San Marino</td>\n",
       "      <td>Robert A. Millikan , Physics, 1923</td>\n",
       "      <td>1923</td>\n",
       "    </tr>\n",
       "    <tr>\n",
       "      <th>25</th>\n",
       "      <td></td>\n",
       "      <td>Physics</td>\n",
       "      <td>United States</td>\n",
       "      <td>19 December 1852</td>\n",
       "      <td>male</td>\n",
       "      <td>http://en.wikipedia.org/wiki/Albert_A._Michelson</td>\n",
       "      <td>Albert A. Michelson</td>\n",
       "      <td>Province of Posen</td>\n",
       "      <td>Pasadena</td>\n",
       "      <td>Albert A. Michelson ,  born in then Germany, n...</td>\n",
       "      <td>1907</td>\n",
       "    </tr>\n",
       "    <tr>\n",
       "      <th>29</th>\n",
       "      <td></td>\n",
       "      <td>Physics</td>\n",
       "      <td>United States</td>\n",
       "      <td>8 August 1901</td>\n",
       "      <td>male</td>\n",
       "      <td>http://en.wikipedia.org/wiki/Ernest_Lawrence</td>\n",
       "      <td>Ernest Lawrence</td>\n",
       "      <td>Canton</td>\n",
       "      <td>Palo Alto</td>\n",
       "      <td>Ernest Lawrence , Physics, 1939</td>\n",
       "      <td>1939</td>\n",
       "    </tr>\n",
       "  </tbody>\n",
       "</table>\n",
       "</div>"
      ],
      "text/plain": [
       "   born_in category        country      date_of_birth gender  \\\n",
       "0           Physics        Austria      25 April 1900   male   \n",
       "11          Physics  United States  10 September 1892   male   \n",
       "13          Physics  United States      22 March 1868   male   \n",
       "25          Physics  United States   19 December 1852   male   \n",
       "29          Physics  United States      8 August 1901   male   \n",
       "\n",
       "                                                link                 name  \\\n",
       "0        http://en.wikipedia.org/wiki/Wolfgang_Pauli       Wolfgang Pauli   \n",
       "11    http://en.wikipedia.org/wiki/Arthur_H._Compton    Arthur H. Compton   \n",
       "13   http://en.wikipedia.org/wiki/Robert_A._Millikan   Robert A. Millikan   \n",
       "25  http://en.wikipedia.org/wiki/Albert_A._Michelson  Albert A. Michelson   \n",
       "29      http://en.wikipedia.org/wiki/Ernest_Lawrence      Ernest Lawrence   \n",
       "\n",
       "       place_of_birth place_of_death  \\\n",
       "0              Vienna         Zurich   \n",
       "11            Wooster       Berkeley   \n",
       "13           Morrison     San Marino   \n",
       "25  Province of Posen       Pasadena   \n",
       "29             Canton      Palo Alto   \n",
       "\n",
       "                                                 text  year  \n",
       "0                      Wolfgang Pauli , Physics, 1945  1945  \n",
       "11                  Arthur H. Compton , Physics, 1927  1927  \n",
       "13                 Robert A. Millikan , Physics, 1923  1923  \n",
       "25  Albert A. Michelson ,  born in then Germany, n...  1907  \n",
       "29                    Ernest Lawrence , Physics, 1939  1939  "
      ]
     },
     "execution_count": 21,
     "metadata": {},
     "output_type": "execute_result"
    }
   ],
   "source": [
    "df = pd.read_json('data/nwinners.json')\n",
    "phy_group = df[df.category == 'Physics']\n",
    "phy_group.head()"
   ]
  },
  {
   "cell_type": "code",
   "execution_count": null,
   "metadata": {
    "collapsed": true
   },
   "outputs": [],
   "source": []
  }
 ],
 "metadata": {
  "kernelspec": {
   "display_name": "Python 2",
   "language": "python",
   "name": "python2"
  },
  "language_info": {
   "codemirror_mode": {
    "name": "ipython",
    "version": 2
   },
   "file_extension": ".py",
   "mimetype": "text/x-python",
   "name": "python",
   "nbconvert_exporter": "python",
   "pygments_lexer": "ipython2",
   "version": "2.7.12"
  }
 },
 "nbformat": 4,
 "nbformat_minor": 2
}
