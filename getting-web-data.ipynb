{
 "cells": [
  {
   "cell_type": "markdown",
   "metadata": {},
   "source": [
    "# Getting Data"
   ]
  },
  {
   "cell_type": "code",
   "execution_count": 1,
   "metadata": {
    "collapsed": false
   },
   "outputs": [
    {
     "name": "stdout",
     "output_type": "stream",
     "text": [
      "['__attrs__', '__bool__', '__class__', '__delattr__', '__dict__', '__doc__', '__enter__', '__exit__', '__format__', '__getattribute__', '__getstate__', '__hash__', '__init__', '__iter__', '__module__', '__new__', '__nonzero__', '__reduce__', '__reduce_ex__', '__repr__', '__setattr__', '__setstate__', '__sizeof__', '__str__', '__subclasshook__', '__weakref__', '_content', '_content_consumed', '_next', 'apparent_encoding', 'close', 'connection', 'content', 'cookies', 'elapsed', 'encoding', 'headers', 'history', 'is_permanent_redirect', 'is_redirect', 'iter_content', 'iter_lines', 'json', 'links', 'next', 'ok', 'raise_for_status', 'raw', 'reason', 'request', 'status_code', 'text', 'url']\n",
      "200\n",
      "{'Content-Length': '71356', 'Content-language': 'en', 'X-Powered-By': 'HHVM/3.18.2', 'X-Cache-Status': 'hit', 'Last-Modified': 'Sat, 19 Aug 2017 00:20:34 GMT', 'X-Client-IP': '75.147.128.193', 'Link': '</static/images/project-logos/enwiki.png>;rel=preload;as=image;media=not all and (min-resolution: 1.5dppx),</static/images/project-logos/enwiki-1.5x.png>;rel=preload;as=image;media=(min-resolution: 1.5dppx) and (max-resolution: 1.999999dppx),</static/images/project-logos/enwiki-2x.png>;rel=preload;as=image;media=(min-resolution: 2dppx)', 'Date': 'Thu, 24 Aug 2017 06:06:18 GMT', 'Accept-Ranges': 'bytes', 'X-Varnish': '719229452 609249106, 403058535', 'X-Cache': 'cp1052 hit/10, cp1052 miss', 'Set-Cookie': 'WMF-Last-Access=24-Aug-2017;Path=/;HttpOnly;secure;Expires=Mon, 25 Sep 2017 00:00:00 GMT, WMF-Last-Access-Global=24-Aug-2017;Path=/;Domain=.wikipedia.org;HttpOnly;secure;Expires=Mon, 25 Sep 2017 00:00:00 GMT, GeoIP=US:CA:Los_Altos:37.36:-122.14:v4; Path=/; secure; Domain=.wikipedia.org', 'Age': '17281', 'Strict-Transport-Security': 'max-age=31536000; includeSubDomains; preload', 'Server': 'mw1275.eqiad.wmnet', 'Connection': 'keep-alive', 'P3P': 'CP=\"This is not a P3P policy! See https://en.wikipedia.org/wiki/Special:CentralAutoLogin/P3P for more info.\"', 'Via': '1.1 varnish-v4, 1.1 varnish-v4', 'X-Analytics': 'ns=0;page_id=21201;https=1;nocookies=1', 'X-Content-Type-Options': 'nosniff', 'Content-Encoding': 'gzip', 'Vary': 'Accept-Encoding,Cookie,Authorization', 'X-UA-Compatible': 'IE=Edge', 'Cache-Control': 'private, s-maxage=0, max-age=0, must-revalidate', 'Content-Type': 'text/html; charset=UTF-8', 'Backend-Timing': 'D=115052 t=1503363338179727'}\n"
     ]
    }
   ],
   "source": [
    "import requests # much better than urllib2, but not in standard lib\n",
    "\n",
    "response = requests.get('https://en.wikipedia.org/wiki/Nobel_Prize')\n",
    "print(dir(response))\n",
    "print(response.status_code)\n",
    "print(response.headers)"
   ]
  },
  {
   "cell_type": "markdown",
   "metadata": {},
   "source": [
    "## Getting ready-to-use files off internet using requests"
   ]
  },
  {
   "cell_type": "code",
   "execution_count": 2,
   "metadata": {
    "collapsed": false
   },
   "outputs": [
    {
     "name": "stdout",
     "output_type": "stream",
     "text": [
      "404\n"
     ]
    }
   ],
   "source": [
    "import requests\n",
    "\n",
    "response = requests.get('https://chhs.data.ca.gov/api/views/pbxw-hhq8/rows.json?accessType=DOWNLOAD')\n",
    "print(response.status_code)\n",
    "if response.status_code == 200:\n",
    "    data = response.json() # convenience method from requests returns a dict\n",
    "    print(data.keys())"
   ]
  },
  {
   "cell_type": "markdown",
   "metadata": {},
   "source": [
    "## Getting data from REST apis using requests"
   ]
  },
  {
   "cell_type": "code",
   "execution_count": 3,
   "metadata": {
    "collapsed": false
   },
   "outputs": [
    {
     "name": "stdout",
     "output_type": "stream",
     "text": [
      "Requesting URL: http://stats.oecd.org/sdmx-json/data/QNAUSA+AUS.GDP+B1-GE.CUR+VOBARSA.Q/all\n",
      "Request returned a 400\n"
     ]
    }
   ],
   "source": [
    "OECD_ROOT_URL = 'http://stats.oecd.org/sdmx-json/data'\n",
    "\n",
    "def make_OECD_request(dsname, dimensions, params=None, root_dir=OECD_ROOT_URL):\n",
    "    '''Make a URL for OECD API and return a response'''\n",
    "    if not params:\n",
    "        params = {} # don't use {} or [] as a default arg ever\n",
    "    dim_args = ['+'.join(d) for d in dimensions]\n",
    "    dim_str = '.'.join(dim_args)\n",
    "    url = root_dir + '/' + dsname + dim_str + '/all'\n",
    "    print('Requesting URL: '+ url)\n",
    "    return requests.get(url, params=params)\n",
    "\n",
    "response = make_OECD_request('QNA',\n",
    "            (('USA', 'AUS'), ('GDP', 'B1-GE'), ('CUR', 'VOBARSA'), ('Q')),\n",
    "            {'startTime': '2009-Q1', 'endTime':'2010-Q1'})\n",
    "if response.status_code == 200:\n",
    "    json = respons.json()\n",
    "    print(json.keys())\n",
    "else:\n",
    "    print('Request returned a {}'.format(response.status_code))"
   ]
  },
  {
   "cell_type": "code",
   "execution_count": 4,
   "metadata": {
    "collapsed": false
   },
   "outputs": [
    {
     "name": "stdout",
     "output_type": "stream",
     "text": [
      "Requesting URL: http://restcountries.eu/rest/v1/currency/usd\n",
      "[{u'timezones': [u'UTC-11:00'], u'demonym': u'American Samoan', u'currencies': [u'USD'], u'alpha2Code': u'AS', u'alpha3Code': u'ASM', u'area': 199.0, u'languages': [u'en', u'sm'], u'capital': u'Pago Pago', u'relevance': u'0.5', u'borders': [], u'altSpellings': [u'AS', u'Amerika S\\u0101moa', u'Amelika S\\u0101moa', u'S\\u0101moa Amelika'], u'gini': None, u'translations': {u'fr': u'Samoa am\\xe9ricaines', u'de': u'Amerikanisch-Samoa', u'ja': u'\\u30a2\\u30e1\\u30ea\\u30ab\\u9818\\u30b5\\u30e2\\u30a2', u'es': u'Samoa Americana', u'it': u'Samoa Americane'}, u'nativeName': u'American Samoa', u'topLevelDomain': [u'.as'], u'numericCode': u'016', u'population': 55519, u'callingCodes': [u'1684'], u'name': u'American Samoa', u'region': u'Oceania', u'subregion': u'Polynesia', u'latlng': [-14.33333333, -170.0]}, {u'timezones': [u'UTC-04:00'], u'demonym': u'Dutch', u'currencies': [u'USD'], u'alpha2Code': u'BQ', u'alpha3Code': u'BES', u'area': 294.0, u'languages': [u'nl'], u'capital': u'Kralendijk', u'relevance': u'0', u'borders': [], u'altSpellings': [u'BQ', u'Boneiru'], u'gini': None, u'translations': {u'fr': None, u'de': None, u'ja': None, u'es': None, u'it': None}, u'nativeName': u'Bonaire', u'topLevelDomain': [u'.an', u'.nl'], u'numericCode': u'535', u'population': 17408, u'callingCodes': [u'5997'], u'name': u'Bonaire', u'region': u'Americas', u'subregion': u'Caribbean', u'latlng': [12.15, -68.266667]}]\n"
     ]
    }
   ],
   "source": [
    "REST_EU_ROOT_URL = 'http://restcountries.eu/rest/v1'\n",
    "\n",
    "def REST_country_request(field='all', name=None, params=None):\n",
    "    headers = {'User-Agent': 'Mozilla/5.0'}\n",
    "    if not params:\n",
    "        params =  []\n",
    "        \n",
    "    if field == 'all':\n",
    "        return requests.get(REST_EU_ROOT_URL + '/all', headers=headers)\n",
    "    \n",
    "    url = '{}/{}/{}'.format(REST_EU_ROOT_URL, field, name)\n",
    "    print('Requesting URL: {}'.format(url))\n",
    "    response = requests.get(url, params=params, headers=headers)\n",
    "    \n",
    "    if not response.status_code == 200:\n",
    "        raise Exception('Request failed with status code {}'.format(response.status_code))\n",
    "        \n",
    "    return response\n",
    "\n",
    "response = REST_country_request('currency', 'usd') # get countries that use us dollar\n",
    "first_three_items = response.json()[:2]\n",
    "print(first_three_items)\n",
    "    "
   ]
  },
  {
   "cell_type": "markdown",
   "metadata": {},
   "source": [
    "The entire countries data isn't that big, so we will download it all and store it in a mongodb"
   ]
  },
  {
   "cell_type": "code",
   "execution_count": 5,
   "metadata": {
    "collapsed": true
   },
   "outputs": [],
   "source": [
    "## REPEAT FROM STORING_DATA.IPYNB\n",
    "from pymongo import MongoClient\n",
    "\n",
    "def get_mongo_database(db_name, host='localhost', port=27017, username=None, password=None):\n",
    "    '''Get named database from MongoDB with/out authentication'''\n",
    "    if username and password:\n",
    "        mongo_uri = 'mongodb://{}:{}@{}/{}'.format(username, password, host, db_name)\n",
    "        conn = MongoClient(mongo_uri)\n",
    "    else:\n",
    "        conn = MongoClient(host, port)\n",
    "        \n",
    "    return conn[db_name]"
   ]
  },
  {
   "cell_type": "code",
   "execution_count": 6,
   "metadata": {
    "collapsed": false
   },
   "outputs": [
    {
     "data": {
      "text/plain": [
       "<pymongo.results.InsertManyResult at 0x7fb33ef92320>"
      ]
     },
     "execution_count": 6,
     "metadata": {},
     "output_type": "execute_result"
    }
   ],
   "source": [
    "db_nobel = get_mongo_database('nobel_prize')\n",
    "coll = db_nobel['country_data']\n",
    "\n",
    "# Get ALL the country data\n",
    "response = REST_country_request()\n",
    "# Insert JSON objects straight into our collection\n",
    "coll.insert_many(response.json())"
   ]
  },
  {
   "cell_type": "code",
   "execution_count": 7,
   "metadata": {
    "collapsed": false
   },
   "outputs": [
    {
     "name": "stdout",
     "output_type": "stream",
     "text": [
      "[{u'timezones': [u'UTC-11:00'], u'demonym': u'American Samoan', u'subregion': u'Polynesia', u'alpha2Code': u'AS', u'gini': None, u'alpha3Code': u'ASM', u'area': 199.0, u'languages': [u'en', u'sm'], u'capital': u'Pago Pago', u'relevance': u'0.5', u'borders': [], u'altSpellings': [u'AS', u'Amerika S\\u0101moa', u'Amelika S\\u0101moa', u'S\\u0101moa Amelika'], u'currencies': [u'USD'], u'translations': {u'fr': u'Samoa am\\xe9ricaines', u'de': u'Amerikanisch-Samoa', u'ja': u'\\u30a2\\u30e1\\u30ea\\u30ab\\u9818\\u30b5\\u30e2\\u30a2', u'es': u'Samoa Americana', u'it': u'Samoa Americane'}, u'nativeName': u'American Samoa', u'topLevelDomain': [u'.as'], u'numericCode': u'016', u'population': 55519, u'callingCodes': [u'1684'], u'name': u'American Samoa', u'region': u'Oceania', u'_id': ObjectId('599d3048a2c4bb2189ca8ae0'), u'latlng': [-14.33333333, -170.0]}, {u'timezones': [u'UTC-04:00'], u'demonym': u'Dutch', u'subregion': u'Caribbean', u'alpha2Code': u'BQ', u'gini': None, u'alpha3Code': u'BES', u'area': 294.0, u'languages': [u'nl'], u'capital': u'Kralendijk', u'relevance': u'0', u'borders': [], u'altSpellings': [u'BQ', u'Boneiru'], u'currencies': [u'USD'], u'translations': {u'fr': None, u'de': None, u'ja': None, u'es': None, u'it': None}, u'nativeName': u'Bonaire', u'topLevelDomain': [u'.an', u'.nl'], u'numericCode': u'535', u'population': 17408, u'callingCodes': [u'5997'], u'name': u'Bonaire', u'region': u'Americas', u'_id': ObjectId('599d3048a2c4bb2189ca8af7'), u'latlng': [12.15, -68.266667]}]\n"
     ]
    }
   ],
   "source": [
    "# Now we can query our mongodb\n",
    "res = coll.find({'currencies': {'$in':['USD']}})\n",
    "first_three_items = list(res)[:2]\n",
    "print(first_three_items)"
   ]
  },
  {
   "cell_type": "code",
   "execution_count": null,
   "metadata": {
    "collapsed": true
   },
   "outputs": [],
   "source": []
  }
 ],
 "metadata": {
  "kernelspec": {
   "display_name": "Python 2",
   "language": "python",
   "name": "python2"
  },
  "language_info": {
   "codemirror_mode": {
    "name": "ipython",
    "version": 2
   },
   "file_extension": ".py",
   "mimetype": "text/x-python",
   "name": "python",
   "nbconvert_exporter": "python",
   "pygments_lexer": "ipython2",
   "version": "2.7.12"
  }
 },
 "nbformat": 4,
 "nbformat_minor": 2
}
